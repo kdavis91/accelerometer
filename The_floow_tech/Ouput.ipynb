{
 "cells": [
  {
   "cell_type": "markdown",
   "metadata": {},
   "source": [
    "# The Floow Technical challenge\n",
    "<br>\n"
   ]
  },
  {
   "cell_type": "code",
   "execution_count": 133,
   "metadata": {},
   "outputs": [],
   "source": [
    "#----------------------------------------------------------------------------------------------\n",
    "path =r'C:\\Users\\Kyled\\Downloads\\all journeys - Document Classification_ Sensitive\\all journeys' \n",
    "outfile=r'C:\\Users\\Kyled\\Downloads\\all journeys - Document Classification_ Sensitive\\output.csv'\n",
    "#----------------------------------------------------------------------------------------------\n"
   ]
  },
  {
   "cell_type": "markdown",
   "metadata": {},
   "source": [
    "## Libraries"
   ]
  },
  {
   "cell_type": "code",
   "execution_count": 134,
   "metadata": {},
   "outputs": [],
   "source": [
    "\n",
    "#-------------------------------------------------\n",
    "import pandas as pd\n",
    "import glob\n",
    "import numpy as np\n",
    "import matplotlib.pyplot as plt\n",
    "from bokeh.plotting import figure, show\n",
    "import seaborn as sns\n",
    "from scipy import stats\n",
    "import scipy.stats as st\n",
    "import warnings\n",
    "import os\n",
    "warnings.filterwarnings('ignore')\n",
    "pd.options.display.float_format = '{:.20f}'.format\n",
    "pd.options.mode.chained_assignment = None\n",
    "#--------------------------------------------------"
   ]
  },
  {
   "cell_type": "markdown",
   "metadata": {},
   "source": [
    "## Functions"
   ]
  },
  {
   "cell_type": "code",
   "execution_count": 135,
   "metadata": {},
   "outputs": [],
   "source": [
    "#------------------------------\n",
    "def file_len(fname):\n",
    "    with open(fname) as f:\n",
    "        for i, l in enumerate(f):\n",
    "            pass\n",
    "    return i + 1\n",
    "\n",
    "\n",
    "def f(col):\n",
    "    if col['M_A'] ==1 & col['B']==1:\n",
    "        val = 'Accident'\n",
    "    \n",
    "    else:\n",
    "        val = 'N'\n",
    "    return val\n",
    "#--------------------------------"
   ]
  },
  {
   "cell_type": "markdown",
   "metadata": {},
   "source": [
    "## Wrangle"
   ]
  },
  {
   "cell_type": "code",
   "execution_count": 136,
   "metadata": {},
   "outputs": [
    {
     "name": "stdout",
     "output_type": "stream",
     "text": [
      "Sum of rows from concatenation:\n",
      "Total rows = 289087 \n",
      "Total columns = 13\n"
     ]
    }
   ],
   "source": [
    "\n",
    "#---------------------------------------------------------------------\n",
    "files = glob.glob(path +'/*.csv') \n",
    "\n",
    "df = pd.concat([pd.read_csv(fp).assign(File_ref=os.path.basename(fp)) for fp in files])\n",
    "r, c = df.shape\n",
    "print(\"Sum of rows from concatenation:\\n\"\n",
    "      \"Total rows =\" ,r,\"\\nTotal columns =\",c)\n",
    "#----------------------------------------------------------------------\n"
   ]
  },
  {
   "cell_type": "code",
   "execution_count": 137,
   "metadata": {},
   "outputs": [
    {
     "data": {
      "text/html": [
       "<div>\n",
       "<style scoped>\n",
       "    .dataframe tbody tr th:only-of-type {\n",
       "        vertical-align: middle;\n",
       "    }\n",
       "\n",
       "    .dataframe tbody tr th {\n",
       "        vertical-align: top;\n",
       "    }\n",
       "\n",
       "    .dataframe thead th {\n",
       "        text-align: right;\n",
       "    }\n",
       "</style>\n",
       "<table border=\"1\" class=\"dataframe\">\n",
       "  <thead>\n",
       "    <tr style=\"text-align: right;\">\n",
       "      <th></th>\n",
       "      <th>timestamp</th>\n",
       "      <th>accuracy</th>\n",
       "      <th>bearing</th>\n",
       "      <th>height</th>\n",
       "      <th>lat</th>\n",
       "      <th>lon</th>\n",
       "      <th>speed</th>\n",
       "      <th>timestamp</th>\n",
       "      <th>x</th>\n",
       "      <th>y</th>\n",
       "      <th>z</th>\n",
       "    </tr>\n",
       "  </thead>\n",
       "  <tbody>\n",
       "    <tr>\n",
       "      <th>count</th>\n",
       "      <td>4426.00000000000000000000</td>\n",
       "      <td>24953.00000000000000000000</td>\n",
       "      <td>24953.00000000000000000000</td>\n",
       "      <td>24953.00000000000000000000</td>\n",
       "      <td>24953.00000000000000000000</td>\n",
       "      <td>24953.00000000000000000000</td>\n",
       "      <td>24953.00000000000000000000</td>\n",
       "      <td>284661.00000000000000000000</td>\n",
       "      <td>264134.00000000000000000000</td>\n",
       "      <td>264134.00000000000000000000</td>\n",
       "      <td>264134.00000000000000000000</td>\n",
       "    </tr>\n",
       "    <tr>\n",
       "      <th>mean</th>\n",
       "      <td>1434838875516.38476562500000000000</td>\n",
       "      <td>7.66027485087965409605</td>\n",
       "      <td>170.29732528403408764461</td>\n",
       "      <td>571.19262352398948223708</td>\n",
       "      <td>37.84673961439274592067</td>\n",
       "      <td>-88.08851914294392315696</td>\n",
       "      <td>8.23017865745506860264</td>\n",
       "      <td>1430237091633.73046875000000000000</td>\n",
       "      <td>-0.03466801341072058007</td>\n",
       "      <td>-0.13861128008784137644</td>\n",
       "      <td>-0.15512119093730256103</td>\n",
       "    </tr>\n",
       "    <tr>\n",
       "      <th>std</th>\n",
       "      <td>115219.01106408258783631027</td>\n",
       "      <td>5.78622403277270791477</td>\n",
       "      <td>110.34017414043344729180</td>\n",
       "      <td>1043.51733087421962409280</td>\n",
       "      <td>6.43281581156617932038</td>\n",
       "      <td>7.91270142341021642807</td>\n",
       "      <td>9.06198017053050897118</td>\n",
       "      <td>3732532476.65347766876220703125</td>\n",
       "      <td>0.73053887199862777013</td>\n",
       "      <td>1.03604518985802851461</td>\n",
       "      <td>1.37911712994510371466</td>\n",
       "    </tr>\n",
       "    <tr>\n",
       "      <th>min</th>\n",
       "      <td>1434838676097.07006835937500000000</td>\n",
       "      <td>3.00000000000000000000</td>\n",
       "      <td>-1.00000000000000000000</td>\n",
       "      <td>-16.17600325000000083264</td>\n",
       "      <td>25.64723389999999625388</td>\n",
       "      <td>-106.97387240000001895623</td>\n",
       "      <td>-1.00000000000000000000</td>\n",
       "      <td>1421058397238.67993164062500000000</td>\n",
       "      <td>-15.79933699999999952013</td>\n",
       "      <td>-19.61329999999999884608</td>\n",
       "      <td>-13.59188299999999927081</td>\n",
       "    </tr>\n",
       "    <tr>\n",
       "      <th>25%</th>\n",
       "      <td>1434838775767.57006835937500000000</td>\n",
       "      <td>5.00000000000000000000</td>\n",
       "      <td>80.15625000000000000000</td>\n",
       "      <td>158.98163269999997737614</td>\n",
       "      <td>33.83121103999999945700</td>\n",
       "      <td>-88.24503927000000658154</td>\n",
       "      <td>0.00000000000000000000</td>\n",
       "      <td>1426800795993.87011718750000000000</td>\n",
       "      <td>-0.22721863000000000476</td>\n",
       "      <td>-0.48722458250000005853</td>\n",
       "      <td>-0.91058349999999987912</td>\n",
       "    </tr>\n",
       "    <tr>\n",
       "      <th>50%</th>\n",
       "      <td>1434838875503.57006835937500000000</td>\n",
       "      <td>5.00000000000000000000</td>\n",
       "      <td>179.29687500000000000000</td>\n",
       "      <td>203.37050990000003025671</td>\n",
       "      <td>40.68627900999999980058</td>\n",
       "      <td>-85.45246432000000424978</td>\n",
       "      <td>3.98000001899999977795</td>\n",
       "      <td>1429903868203.82006835937500000000</td>\n",
       "      <td>-0.00953674300000000030</td>\n",
       "      <td>-0.08328246999999999733</td>\n",
       "      <td>-0.52674102999999994346</td>\n",
       "    </tr>\n",
       "    <tr>\n",
       "      <th>75%</th>\n",
       "      <td>1434838975247.82006835937500000000</td>\n",
       "      <td>10.00000000000000000000</td>\n",
       "      <td>268.59375000000000000000</td>\n",
       "      <td>261.65849300000002131128</td>\n",
       "      <td>42.32121519999999748052</td>\n",
       "      <td>-83.04635016000000291569</td>\n",
       "      <td>15.00000000000000000000</td>\n",
       "      <td>1434719243633.26000976562500000000</td>\n",
       "      <td>0.10264587399999999806</td>\n",
       "      <td>0.12504577999999999527</td>\n",
       "      <td>0.10942840624999999877</td>\n",
       "    </tr>\n",
       "    <tr>\n",
       "      <th>max</th>\n",
       "      <td>1434839075017.07006835937500000000</td>\n",
       "      <td>50.00000000000000000000</td>\n",
       "      <td>359.64843750000000000000</td>\n",
       "      <td>3616.49871899999970992212</td>\n",
       "      <td>44.89864271999999800755</td>\n",
       "      <td>-80.10532424000000162323</td>\n",
       "      <td>50.29999923999999822399</td>\n",
       "      <td>1435164720979.00000000000000000000</td>\n",
       "      <td>19.61270100000000127238</td>\n",
       "      <td>10.92593999999999887507</td>\n",
       "      <td>19.61270100000000127238</td>\n",
       "    </tr>\n",
       "  </tbody>\n",
       "</table>\n",
       "</div>"
      ],
      "text/plain": [
       "                              timestamp                    accuracy  \\\n",
       "count          4426.00000000000000000000 24953.00000000000000000000   \n",
       "mean  1434838875516.38476562500000000000     7.66027485087965409605   \n",
       "std          115219.01106408258783631027     5.78622403277270791477   \n",
       "min   1434838676097.07006835937500000000     3.00000000000000000000   \n",
       "25%   1434838775767.57006835937500000000     5.00000000000000000000   \n",
       "50%   1434838875503.57006835937500000000     5.00000000000000000000   \n",
       "75%   1434838975247.82006835937500000000    10.00000000000000000000   \n",
       "max   1434839075017.07006835937500000000    50.00000000000000000000   \n",
       "\n",
       "                         bearing                     height  \\\n",
       "count 24953.00000000000000000000 24953.00000000000000000000   \n",
       "mean    170.29732528403408764461   571.19262352398948223708   \n",
       "std     110.34017414043344729180  1043.51733087421962409280   \n",
       "min      -1.00000000000000000000   -16.17600325000000083264   \n",
       "25%      80.15625000000000000000   158.98163269999997737614   \n",
       "50%     179.29687500000000000000   203.37050990000003025671   \n",
       "75%     268.59375000000000000000   261.65849300000002131128   \n",
       "max     359.64843750000000000000  3616.49871899999970992212   \n",
       "\n",
       "                             lat                        lon  \\\n",
       "count 24953.00000000000000000000 24953.00000000000000000000   \n",
       "mean     37.84673961439274592067   -88.08851914294392315696   \n",
       "std       6.43281581156617932038     7.91270142341021642807   \n",
       "min      25.64723389999999625388  -106.97387240000001895623   \n",
       "25%      33.83121103999999945700   -88.24503927000000658154   \n",
       "50%      40.68627900999999980058   -85.45246432000000424978   \n",
       "75%      42.32121519999999748052   -83.04635016000000291569   \n",
       "max      44.89864271999999800755   -80.10532424000000162323   \n",
       "\n",
       "                           speed                          timestamp  \\\n",
       "count 24953.00000000000000000000        284661.00000000000000000000   \n",
       "mean      8.23017865745506860264 1430237091633.73046875000000000000   \n",
       "std       9.06198017053050897118    3732532476.65347766876220703125   \n",
       "min      -1.00000000000000000000 1421058397238.67993164062500000000   \n",
       "25%       0.00000000000000000000 1426800795993.87011718750000000000   \n",
       "50%       3.98000001899999977795 1429903868203.82006835937500000000   \n",
       "75%      15.00000000000000000000 1434719243633.26000976562500000000   \n",
       "max      50.29999923999999822399 1435164720979.00000000000000000000   \n",
       "\n",
       "                                x                           y  \\\n",
       "count 264134.00000000000000000000 264134.00000000000000000000   \n",
       "mean      -0.03466801341072058007     -0.13861128008784137644   \n",
       "std        0.73053887199862777013      1.03604518985802851461   \n",
       "min      -15.79933699999999952013    -19.61329999999999884608   \n",
       "25%       -0.22721863000000000476     -0.48722458250000005853   \n",
       "50%       -0.00953674300000000030     -0.08328246999999999733   \n",
       "75%        0.10264587399999999806      0.12504577999999999527   \n",
       "max       19.61270100000000127238     10.92593999999999887507   \n",
       "\n",
       "                                z  \n",
       "count 264134.00000000000000000000  \n",
       "mean      -0.15512119093730256103  \n",
       "std        1.37911712994510371466  \n",
       "min      -13.59188299999999927081  \n",
       "25%       -0.91058349999999987912  \n",
       "50%       -0.52674102999999994346  \n",
       "75%        0.10942840624999999877  \n",
       "max       19.61270100000000127238  "
      ]
     },
     "execution_count": 137,
     "metadata": {},
     "output_type": "execute_result"
    }
   ],
   "source": [
    "df.head\n",
    "df.describe()"
   ]
  },
  {
   "cell_type": "markdown",
   "metadata": {},
   "source": [
    "## Cleansing\n",
    "\n",
    "### Time"
   ]
  },
  {
   "cell_type": "code",
   "execution_count": 138,
   "metadata": {},
   "outputs": [
    {
     "name": "stdout",
     "output_type": "stream",
     "text": [
      "Files with units in m s^-1 : b0b25b30-c3b3-48a4-9e20-810363501c64.csv\n"
     ]
    }
   ],
   "source": [
    "df['DateTime'] = pd.to_datetime(df.iloc[:,0].combine_first(df.timestamp), unit='ms')\n",
    "df['Date'] = df['DateTime'].dt.date\n",
    "df['Unit_check']=(np.abs(df['x'])+np.abs(df['y'])+np.abs(df['z']))/3\n",
    "table=pd.pivot_table(df,index=[\"File_ref\"])\n",
    "dfb = table[table['Unit_check']>2].index.values.astype(str)[0]\n",
    "print(\"Files with units in m s^-1 :\",dfb)"
   ]
  },
  {
   "cell_type": "markdown",
   "metadata": {},
   "source": [
    "### Acceleration \n",
    "\n",
    "Magnitude of acceleration vector since we have no fixed orientation \n",
    "\n",
    "\\begin{align}\n",
    "\\ | a\\vec\\ |=\\sqrt{a_x^2+a_y^2+a_z^2}\n",
    "\\end{align}"
   ]
  },
  {
   "cell_type": "code",
   "execution_count": 139,
   "metadata": {},
   "outputs": [],
   "source": [
    "s=df[df['File_ref'].str.contains(dfb)]\n",
    "df=df[~df['File_ref'].str.contains(dfb)]\n",
    "df['Mag/G']=np.sqrt(df.x**2+df.y**2+df.z**2)\n",
    "df['Mag/G'].fillna(0, inplace=True)\n",
    "\n",
    "s['Mag/G']=np.sqrt(s.x**2+s.y**2+s.z**2)/9.81\n",
    "s['Mag/G'].fillna(0, inplace=True)\n",
    "\n",
    "df=df.append(s)\n"
   ]
  },
  {
   "cell_type": "markdown",
   "metadata": {},
   "source": [
    "### Units "
   ]
  },
  {
   "cell_type": "code",
   "execution_count": 140,
   "metadata": {},
   "outputs": [],
   "source": [
    "df.rename({'bearing': 'bearing/deg', 'height': 'height/m',\n",
    "           'speed': 'speed m s^-1 (scalar)'}, inplace=True,axis=1)\n",
    "df['Speed km h^-1']=df['speed m s^-1 (scalar)']*3.6 # m s^-1 is the SI unit, but km h^-1 helpful"
   ]
  },
  {
   "cell_type": "code",
   "execution_count": 141,
   "metadata": {},
   "outputs": [],
   "source": [
    "#Copy of df with relevant columns \n",
    "output= pd.DataFrame(df[['Date','DateTime', 'Mag/G', 'Speed km h^-1','height/m',\n",
    "                         'bearing/deg','lat', 'lon','File_ref']].copy()\n",
    ")\n"
   ]
  },
  {
   "cell_type": "markdown",
   "metadata": {},
   "source": [
    "To construct a suitable metric we will need to fill values for the speed.\n",
    "I chose to fill with the average between values dynamically because both forward propogation and column wide mean are not appropriate."
   ]
  },
  {
   "cell_type": "code",
   "execution_count": 142,
   "metadata": {},
   "outputs": [],
   "source": [
    "output['Speed km h^-1']=output['Speed km h^-1'].interpolate()"
   ]
  },
  {
   "cell_type": "markdown",
   "metadata": {},
   "source": [
    "### Understanding the data"
   ]
  },
  {
   "cell_type": "markdown",
   "metadata": {},
   "source": [
    "##### Speed"
   ]
  },
  {
   "cell_type": "code",
   "execution_count": 143,
   "metadata": {},
   "outputs": [
    {
     "data": {
      "text/plain": [
       "count   289087.00000000000000000000\n",
       "mean        29.47127423774077215057\n",
       "std         32.12880740233888587909\n",
       "min         -3.60000000000000008882\n",
       "25%          0.00000000000000000000\n",
       "50%         14.48836394367272895067\n",
       "75%         52.47600002400000107627\n",
       "max        181.07999726399998507986\n",
       "Name: Speed km h^-1, dtype: float64"
      ]
     },
     "execution_count": 143,
     "metadata": {},
     "output_type": "execute_result"
    },
    {
     "data": {
      "image/png": "[encoded data removed]",
      "text/plain": [
       "<Figure size 432x288 with 1 Axes>"
      ]
     },
     "metadata": {},
     "output_type": "display_data"
    }
   ],
   "source": [
    "sns.set_style('darkgrid')\n",
    "sns.distplot(output['Speed km h^-1'].dropna(),bins=10)\n",
    "output['Speed km h^-1'].describe()"
   ]
  },
  {
   "cell_type": "markdown",
   "metadata": {},
   "source": [
    "Data is heavily skewed towards lower speeds,which is consistent with reality.Data will need to be normalised to score appropriatley.Mean here is ~30 km h^-1"
   ]
  },
  {
   "cell_type": "markdown",
   "metadata": {},
   "source": [
    "#### Acceleration"
   ]
  },
  {
   "cell_type": "code",
   "execution_count": 144,
   "metadata": {},
   "outputs": [
    {
     "data": {
      "image/png": "[encoded data removed]",
      "text/plain": [
       "<Figure size 432x288 with 3 Axes>"
      ]
     },
     "metadata": {},
     "output_type": "display_data"
    }
   ],
   "source": [
    "#-------------\n",
    "x = df.DateTime\n",
    "x_accel = df.x\n",
    "y_accel = df.y\n",
    "z_accel = df.z\n",
    "#--------------------\n",
    "plt.subplot(3, 1, 1)\n",
    "plt.plot(x, x_accel, '.-')\n",
    "plt.title('Vector Acceleration/G')\n",
    "plt.ylabel('X acceleration')\n",
    "plt.xticks([])\n",
    "plt.subplot(3, 1, 2)\n",
    "plt.plot(x, y_accel, '.-')\n",
    "plt.xlabel('time')\n",
    "plt.ylabel('Y acceleration')\n",
    "plt.xticks([])\n",
    "plt.subplot(3, 1, 3)\n",
    "plt.plot(x, z_accel, '.-')\n",
    "plt.xlabel('time')\n",
    "plt.ylabel('Z acceleration')\n",
    "plt.xticks([])\n",
    "\n",
    "plt.show()"
   ]
  },
  {
   "cell_type": "code",
   "execution_count": 145,
   "metadata": {},
   "outputs": [
    {
     "data": {
      "text/plain": [
       "0.927881468371393"
      ]
     },
     "execution_count": 145,
     "metadata": {},
     "output_type": "execute_result"
    },
    {
     "data": {
      "image/png": "[encoded data removed]",
      "text/plain": [
       "<Figure size 432x288 with 1 Axes>"
      ]
     },
     "metadata": {},
     "output_type": "display_data"
    }
   ],
   "source": [
    "plt.xlim(1, 10)\n",
    "sns.distplot(output['Mag/G'].dropna(),bins=50)\n",
    "np.mean(output['Mag/G'])\n"
   ]
  },
  {
   "cell_type": "markdown",
   "metadata": {},
   "source": [
    "Again we have a heavy skew towards lower accelerations. This is consistent with the bulk of driving (i.e no events). Normalisation to be applied."
   ]
  },
  {
   "cell_type": "markdown",
   "metadata": {},
   "source": [
    "### Process"
   ]
  },
  {
   "cell_type": "markdown",
   "metadata": {},
   "source": [
    "$AD: x -> \\{0,1\\}$\n",
    "\n",
    "(1) a high acceleration event whilst the vehicle is moving\n",
    "above the threshold speed, $M_S$.\n",
    "\n",
    "\n",
    "$$AD (x,y)=\n",
    "\\begin{cases}\n",
    "(M_A,β)==1,\\\\\n",
    "\\; 0\n",
    "\\end{cases}\n",
    "$$\n",
    "\n",
    "\n"
   ]
  },
  {
   "cell_type": "markdown",
   "metadata": {},
   "source": [
    "First we consider acceleration events from the phone alone i.e false positives \n",
    "Here we set $M_A$, the minimum acceleration for an acceleration event to trigger accident detection.\n",
    "\n",
    "$M_A = 4$\n",
    "\n",
    "\n"
   ]
  },
  {
   "cell_type": "code",
   "execution_count": 146,
   "metadata": {},
   "outputs": [
    {
     "data": {
      "text/plain": [
       "0    289001\n",
       "1        86\n",
       "Name: M_A, dtype: int64"
      ]
     },
     "execution_count": 146,
     "metadata": {},
     "output_type": "execute_result"
    }
   ],
   "source": [
    "output['M_A'] = np.where(output['Mag/G']<4, 0, 1)\n",
    "output['M_A'].value_counts()"
   ]
  },
  {
   "cell_type": "markdown",
   "metadata": {},
   "source": [
    "$M_S$ is the minimum speed in order to activate the accident detection system and serves as a low pass filter to rule out other activities and ensure the phone is in the vehicle.\n",
    "\n",
    "$β$ is a speed threshold variable with value 1 if the phone has been traveling at greater than $M_S$.\n",
    "\n",
    "$M_S = 25$ "
   ]
  },
  {
   "cell_type": "code",
   "execution_count": 147,
   "metadata": {},
   "outputs": [
    {
     "data": {
      "text/plain": [
       "0    161980\n",
       "1    127107\n",
       "Name: B, dtype: int64"
      ]
     },
     "execution_count": 147,
     "metadata": {},
     "output_type": "execute_result"
    }
   ],
   "source": [
    "M_S = 25\n",
    "output['B'] = np.where(output['Speed km h^-1']>M_S, 1, 0)\n",
    "output['B'].value_counts()"
   ]
  },
  {
   "cell_type": "markdown",
   "metadata": {},
   "source": [
    "Here we apply the Accident detection function f. That is, 1 if $$Mag>M_A, B==1$$  \n",
    "\n",
    "See functions."
   ]
  },
  {
   "cell_type": "code",
   "execution_count": 148,
   "metadata": {},
   "outputs": [
    {
     "data": {
      "text/plain": [
       "N           289041\n",
       "Accident        46\n",
       "Name: AD, dtype: int64"
      ]
     },
     "execution_count": 148,
     "metadata": {},
     "output_type": "execute_result"
    }
   ],
   "source": [
    "output['AD'] = output.apply(f, axis=1)\n",
    "output['AD'].value_counts()"
   ]
  },
  {
   "cell_type": "markdown",
   "metadata": {},
   "source": [
    "Next we establish a time of the event occuring. A time stamp will be generated for all accidents that meet the criteria. A decision during filtering will need to be made with respect to when we register the event."
   ]
  },
  {
   "cell_type": "code",
   "execution_count": 149,
   "metadata": {},
   "outputs": [],
   "source": [
    "output['Time_of_event'] =output.apply(lambda x: '-' if x['AD'] == 'N' else x['DateTime'],axis=1) "
   ]
  },
  {
   "cell_type": "markdown",
   "metadata": {},
   "source": [
    "## Scoring "
   ]
  },
  {
   "cell_type": "markdown",
   "metadata": {},
   "source": [
    "The variables of interest were highly skewed.\n",
    "With respect to outlier treatment, we wish to keep these since they correspond to high speed,high acceleration events.\n",
    "Z scoring,logarithmic treatment and sigmoid functions introduced to much distortion and unreliable scoring at extremes.\n",
    "I opted for percentile linearisation."
   ]
  },
  {
   "cell_type": "code",
   "execution_count": 150,
   "metadata": {},
   "outputs": [
    {
     "data": {
      "text/plain": [
       "count   289087.00000000000000000000\n",
       "mean         0.46771621667444529535\n",
       "std          0.33010723088383009394\n",
       "min          0.00000000000000000000\n",
       "25%          0.00128335512615623034\n",
       "50%          0.50000000000000000000\n",
       "75%          0.75000000000000000000\n",
       "max          1.00000000000000000000\n",
       "Name: Speed_pl, dtype: float64"
      ]
     },
     "execution_count": 150,
     "metadata": {},
     "output_type": "execute_result"
    }
   ],
   "source": [
    "size = len(output['Mag/G'])-1\n",
    "output['Mag_pl']= output['Mag/G'].rank(method='min').apply(lambda x: (x-1)/size)\n",
    "output['Mag_pl'].describe()\n",
    "\n",
    "size = len(output['Speed km h^-1'])-1\n",
    "output['Speed_pl']= output['Speed km h^-1'].rank(method='min').apply(lambda x: (x-1)/size)\n",
    "output['Speed_pl'].describe()\n"
   ]
  },
  {
   "cell_type": "markdown",
   "metadata": {},
   "source": [
    "Next, we take a weighted average of the two scores.\n",
    "\n",
    "we set weights for speed and acceleration;\n",
    "$w_A=1$\n",
    "$w_B=2$ respectivley.\n",
    "\n",
    "$W = \\frac{w_A}{w_A+w_B} \\cdot  Z_A + \\frac{w_B}{w_A+w_B} \\cdot Z_B$\n",
    "\n",
    "Divide the Result by its standard deviation to give a severity index SI.\n",
    "\n",
    "And introduce a column for confidence."
   ]
  },
  {
   "cell_type": "code",
   "execution_count": 151,
   "metadata": {},
   "outputs": [],
   "source": [
    "w_A=1\n",
    "w_B=2\n",
    "output['W']=(w_A/(w_A+w_B))*output['Mag_pl']+(w_B/(w_A+w_B))*output['Speed_pl']\n",
    "output['SI']=output['W']/np.std(output['W'])\n",
    "output['conf']=(st.norm.cdf(output['SI']))"
   ]
  },
  {
   "cell_type": "markdown",
   "metadata": {},
   "source": [
    "Next we produce a table with accident flags,and then output back to the original journeys.\n"
   ]
  },
  {
   "cell_type": "code",
   "execution_count": 152,
   "metadata": {},
   "outputs": [],
   "source": [
    "a=output.loc[output['AD'] == 'Accident']"
   ]
  },
  {
   "cell_type": "code",
   "execution_count": 167,
   "metadata": {},
   "outputs": [],
   "source": [
    "for i, x in a.groupby('File_ref'):\n",
    "    p = os.path.join(os.getcwd(), \"data_{}.csv\".format(i.lower()))\n",
    "    x.to_csv(p, index=False)\n",
    "csvs=[x for x in os.listdir() if x.endswith('.csv')]\n",
    "fns=[os.path.splitext(os.path.basename(x))[0] for x in csvs]\n",
    "d={}"
   ]
  },
  {
   "cell_type": "code",
   "execution_count": 188,
   "metadata": {},
   "outputs": [
    {
     "name": "stdout",
     "output_type": "stream",
     "text": [
      "Journeys with accident flags: \n",
      " ['348D851E-171F-47E6-85DB-D0272515CCBA.csv'\n",
      " '844709EE-F9AA-4B66-B682-860339FCBC1C.csv'\n",
      " '9EB59633-AD54-47F0-AC5F-61F3A183DB30.csv'\n",
      " 'E91DC5BB-A924-49B0-B984-BCEEF656FC5A.csv'\n",
      " 'EC16DDC1-4AFF-4A78-AF04-E22530A77E11.csv'] \n",
      "\n",
      "Total accident flags:  46 \n",
      "\n",
      "The most severe accidents for each Journey were:\n"
     ]
    },
    {
     "data": {
      "text/html": [
       "<div>\n",
       "<style scoped>\n",
       "    .dataframe tbody tr th:only-of-type {\n",
       "        vertical-align: middle;\n",
       "    }\n",
       "\n",
       "    .dataframe tbody tr th {\n",
       "        vertical-align: top;\n",
       "    }\n",
       "\n",
       "    .dataframe thead th {\n",
       "        text-align: right;\n",
       "    }\n",
       "</style>\n",
       "<table border=\"1\" class=\"dataframe\">\n",
       "  <thead>\n",
       "    <tr style=\"text-align: right;\">\n",
       "      <th></th>\n",
       "      <th>B</th>\n",
       "      <th>M_A</th>\n",
       "      <th>Mag/G</th>\n",
       "      <th>Mag_pl</th>\n",
       "      <th>SI</th>\n",
       "      <th>Speed km h^-1</th>\n",
       "      <th>Speed_pl</th>\n",
       "      <th>W</th>\n",
       "      <th>conf</th>\n",
       "    </tr>\n",
       "    <tr>\n",
       "      <th>File_ref</th>\n",
       "      <th></th>\n",
       "      <th></th>\n",
       "      <th></th>\n",
       "      <th></th>\n",
       "      <th></th>\n",
       "      <th></th>\n",
       "      <th></th>\n",
       "      <th></th>\n",
       "      <th></th>\n",
       "    </tr>\n",
       "  </thead>\n",
       "  <tbody>\n",
       "    <tr>\n",
       "      <th>348D851E-171F-47E6-85DB-D0272515CCBA.csv</th>\n",
       "      <td>1</td>\n",
       "      <td>1</td>\n",
       "      <td>7.50492170968703042888</td>\n",
       "      <td>0.99997232657409906853</td>\n",
       "      <td>3.30492860692834700131</td>\n",
       "      <td>48.01418244981817906591</td>\n",
       "      <td>0.71131082100136289181</td>\n",
       "      <td>0.80753132285894158038</td>\n",
       "      <td>0.99952499702036312623</td>\n",
       "    </tr>\n",
       "    <tr>\n",
       "      <th>844709EE-F9AA-4B66-B682-860339FCBC1C.csv</th>\n",
       "      <td>1</td>\n",
       "      <td>1</td>\n",
       "      <td>4.76803684812971795282</td>\n",
       "      <td>0.99982246276398101248</td>\n",
       "      <td>3.41818284314978138028</td>\n",
       "      <td>53.81683922869572000991</td>\n",
       "      <td>0.75289482348220404528</td>\n",
       "      <td>0.83520403657612962700</td>\n",
       "      <td>0.99963986574621088721</td>\n",
       "    </tr>\n",
       "    <tr>\n",
       "      <th>9EB59633-AD54-47F0-AC5F-61F3A183DB30.csv</th>\n",
       "      <td>1</td>\n",
       "      <td>1</td>\n",
       "      <td>5.99036593552790019857</td>\n",
       "      <td>0.99989622465287142372</td>\n",
       "      <td>3.93391320571624758529</td>\n",
       "      <td>89.67108983509092468012</td>\n",
       "      <td>0.94187946378125086966</td>\n",
       "      <td>0.96121838407179094332</td>\n",
       "      <td>0.99995807515619083983</td>\n",
       "    </tr>\n",
       "    <tr>\n",
       "      <th>E91DC5BB-A924-49B0-B984-BCEEF656FC5A.csv</th>\n",
       "      <td>1</td>\n",
       "      <td>1</td>\n",
       "      <td>7.13387504708851594160</td>\n",
       "      <td>0.99995762506658913971</td>\n",
       "      <td>3.12842087649376709990</td>\n",
       "      <td>38.86199922763636749323</td>\n",
       "      <td>0.64662591754702747338</td>\n",
       "      <td>0.76440315338688136215</td>\n",
       "      <td>0.99906677635562368689</td>\n",
       "    </tr>\n",
       "    <tr>\n",
       "      <th>EC16DDC1-4AFF-4A78-AF04-E22530A77E11.csv</th>\n",
       "      <td>1</td>\n",
       "      <td>1</td>\n",
       "      <td>4.99506303482157143492</td>\n",
       "      <td>0.99988584711815864381</td>\n",
       "      <td>3.48293581485072767379</td>\n",
       "      <td>56.83199728799999661533</td>\n",
       "      <td>0.77659589187992505988</td>\n",
       "      <td>0.85102587695933618051</td>\n",
       "      <td>0.99975202637242388537</td>\n",
       "    </tr>\n",
       "  </tbody>\n",
       "</table>\n",
       "</div>"
      ],
      "text/plain": [
       "                                          B  M_A                  Mag/G  \\\n",
       "File_ref                                                                  \n",
       "348D851E-171F-47E6-85DB-D0272515CCBA.csv  1    1 7.50492170968703042888   \n",
       "844709EE-F9AA-4B66-B682-860339FCBC1C.csv  1    1 4.76803684812971795282   \n",
       "9EB59633-AD54-47F0-AC5F-61F3A183DB30.csv  1    1 5.99036593552790019857   \n",
       "E91DC5BB-A924-49B0-B984-BCEEF656FC5A.csv  1    1 7.13387504708851594160   \n",
       "EC16DDC1-4AFF-4A78-AF04-E22530A77E11.csv  1    1 4.99506303482157143492   \n",
       "\n",
       "                                                         Mag_pl  \\\n",
       "File_ref                                                          \n",
       "348D851E-171F-47E6-85DB-D0272515CCBA.csv 0.99997232657409906853   \n",
       "844709EE-F9AA-4B66-B682-860339FCBC1C.csv 0.99982246276398101248   \n",
       "9EB59633-AD54-47F0-AC5F-61F3A183DB30.csv 0.99989622465287142372   \n",
       "E91DC5BB-A924-49B0-B984-BCEEF656FC5A.csv 0.99995762506658913971   \n",
       "EC16DDC1-4AFF-4A78-AF04-E22530A77E11.csv 0.99988584711815864381   \n",
       "\n",
       "                                                             SI  \\\n",
       "File_ref                                                          \n",
       "348D851E-171F-47E6-85DB-D0272515CCBA.csv 3.30492860692834700131   \n",
       "844709EE-F9AA-4B66-B682-860339FCBC1C.csv 3.41818284314978138028   \n",
       "9EB59633-AD54-47F0-AC5F-61F3A183DB30.csv 3.93391320571624758529   \n",
       "E91DC5BB-A924-49B0-B984-BCEEF656FC5A.csv 3.12842087649376709990   \n",
       "EC16DDC1-4AFF-4A78-AF04-E22530A77E11.csv 3.48293581485072767379   \n",
       "\n",
       "                                                   Speed km h^-1  \\\n",
       "File_ref                                                           \n",
       "348D851E-171F-47E6-85DB-D0272515CCBA.csv 48.01418244981817906591   \n",
       "844709EE-F9AA-4B66-B682-860339FCBC1C.csv 53.81683922869572000991   \n",
       "9EB59633-AD54-47F0-AC5F-61F3A183DB30.csv 89.67108983509092468012   \n",
       "E91DC5BB-A924-49B0-B984-BCEEF656FC5A.csv 38.86199922763636749323   \n",
       "EC16DDC1-4AFF-4A78-AF04-E22530A77E11.csv 56.83199728799999661533   \n",
       "\n",
       "                                                       Speed_pl  \\\n",
       "File_ref                                                          \n",
       "348D851E-171F-47E6-85DB-D0272515CCBA.csv 0.71131082100136289181   \n",
       "844709EE-F9AA-4B66-B682-860339FCBC1C.csv 0.75289482348220404528   \n",
       "9EB59633-AD54-47F0-AC5F-61F3A183DB30.csv 0.94187946378125086966   \n",
       "E91DC5BB-A924-49B0-B984-BCEEF656FC5A.csv 0.64662591754702747338   \n",
       "EC16DDC1-4AFF-4A78-AF04-E22530A77E11.csv 0.77659589187992505988   \n",
       "\n",
       "                                                              W  \\\n",
       "File_ref                                                          \n",
       "348D851E-171F-47E6-85DB-D0272515CCBA.csv 0.80753132285894158038   \n",
       "844709EE-F9AA-4B66-B682-860339FCBC1C.csv 0.83520403657612962700   \n",
       "9EB59633-AD54-47F0-AC5F-61F3A183DB30.csv 0.96121838407179094332   \n",
       "E91DC5BB-A924-49B0-B984-BCEEF656FC5A.csv 0.76440315338688136215   \n",
       "EC16DDC1-4AFF-4A78-AF04-E22530A77E11.csv 0.85102587695933618051   \n",
       "\n",
       "                                                           conf  \n",
       "File_ref                                                         \n",
       "348D851E-171F-47E6-85DB-D0272515CCBA.csv 0.99952499702036312623  \n",
       "844709EE-F9AA-4B66-B682-860339FCBC1C.csv 0.99963986574621088721  \n",
       "9EB59633-AD54-47F0-AC5F-61F3A183DB30.csv 0.99995807515619083983  \n",
       "E91DC5BB-A924-49B0-B984-BCEEF656FC5A.csv 0.99906677635562368689  \n",
       "EC16DDC1-4AFF-4A78-AF04-E22530A77E11.csv 0.99975202637242388537  "
      ]
     },
     "metadata": {},
     "output_type": "display_data"
    }
   ],
   "source": [
    "print(\"Journeys with accident flags: \\n\",a.File_ref.unique(), \"\\n\")\n",
    "\n",
    "v=a.AD.count()\n",
    "table=pd.pivot_table(a,index=[\"File_ref\",\"\"])\n",
    "print(\"Total accident flags: \",a.AD.count(),\"\\n\")\n",
    "\n",
    "print(\"The most severe accidents for each Journey were:\")\n",
    "display(table)\n",
    "\n",
    "    \n",
    "    "
   ]
  },
  {
   "cell_type": "code",
   "execution_count": null,
   "metadata": {},
   "outputs": [],
   "source": []
  },
  {
   "cell_type": "code",
   "execution_count": null,
   "metadata": {},
   "outputs": [],
   "source": []
  }
 ],
 "metadata": {
  "kernelspec": {
   "display_name": "Python 3",
   "language": "python",
   "name": "python3"
  },
  "language_info": {
   "codemirror_mode": {
    "name": "ipython",
    "version": 3
   },
   "file_extension": ".py",
   "mimetype": "text/x-python",
   "name": "python",
   "nbconvert_exporter": "python",
   "pygments_lexer": "ipython3",
   "version": "3.6.5"
  }
 },
 "nbformat": 4,
 "nbformat_minor": 2
}
